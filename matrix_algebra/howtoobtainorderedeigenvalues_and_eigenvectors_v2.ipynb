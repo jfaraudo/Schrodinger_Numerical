{
  "nbformat": 4,
  "nbformat_minor": 0,
  "metadata": {
    "colab": {
      "provenance": [],
      "authorship_tag": "ABX9TyNZh0wIzdv3kanwaO3ega0Y",
      "include_colab_link": true
    },
    "kernelspec": {
      "name": "python3",
      "display_name": "Python 3"
    },
    "language_info": {
      "name": "python"
    }
  },
  "cells": [
    {
      "cell_type": "markdown",
      "metadata": {
        "id": "view-in-github",
        "colab_type": "text"
      },
      "source": [
        "<a href=\"https://colab.research.google.com/github/jfaraudo/Schrodinger_Numerical/blob/main/matrix_algebra/howtoobtainorderedeigenvalues_and_eigenvectors_v2.ipynb\" target=\"_parent\"><img src=\"https://colab.research.google.com/assets/colab-badge.svg\" alt=\"Open In Colab\"/></a>"
      ]
    },
    {
      "cell_type": "markdown",
      "source": [
        "**1. HOW TO ORDER A LIST OF NUMBERS IN AN ARRAY**"
      ],
      "metadata": {
        "id": "b6ivX5BEpIqN"
      }
    },
    {
      "cell_type": "markdown",
      "source": [
        "Consider the following list of numbers stored in a numpy array:"
      ],
      "metadata": {
        "id": "aR9k1H8HpbEL"
      }
    },
    {
      "cell_type": "code",
      "execution_count": null,
      "metadata": {
        "id": "PfabaYi0Fypl",
        "colab": {
          "base_uri": "https://localhost:8080/"
        },
        "outputId": "42ff7c91-f60c-4616-ecbb-b4cb64b03af4"
      },
      "outputs": [
        {
          "output_type": "stream",
          "name": "stdout",
          "text": [
            "array: [ 11  52   2  16  16  54 453]\n"
          ]
        }
      ],
      "source": [
        "import numpy as np\n",
        "list_of_numbers = np.array([11, 52, 2, 16, 16, 54, 453])\n",
        "print(\"array:\",list_of_numbers)"
      ]
    },
    {
      "cell_type": "markdown",
      "source": [
        "As you can see, the list is not ordered.\n",
        "\n",
        "We can order it using the .sort() method of Python (see https://docs.python.org/es/3.13/howto/sorting.html )\n",
        ":"
      ],
      "metadata": {
        "id": "53fcXVf2piZ9"
      }
    },
    {
      "cell_type": "code",
      "source": [
        "list_of_numbers.sort()\n",
        "print(list_of_numbers)"
      ],
      "metadata": {
        "id": "eONBwrg6w4tq",
        "colab": {
          "base_uri": "https://localhost:8080/"
        },
        "outputId": "40c887c0-fde6-4504-f701-c1a8c2affe53"
      },
      "execution_count": null,
      "outputs": [
        {
          "output_type": "stream",
          "name": "stdout",
          "text": [
            "[  2  11  16  16  52  54 453]\n"
          ]
        }
      ]
    },
    {
      "cell_type": "markdown",
      "source": [
        "**2. Diagonalization of a Matrix**"
      ],
      "metadata": {
        "id": "AVUEcf0fqm7M"
      }
    },
    {
      "cell_type": "markdown",
      "source": [
        "Diagonalization in python is easy, but unfortunatelly eigenvalues and eigenvectors are not ordered."
      ],
      "metadata": {
        "id": "X0oJXURRqq8o"
      }
    },
    {
      "cell_type": "markdown",
      "source": [
        "Let us see an example. Consider this matrix:"
      ],
      "metadata": {
        "id": "c0aeap9Qq2WC"
      }
    },
    {
      "cell_type": "code",
      "source": [
        "A = np.array([[0.16,0.8,0.077], [0.5,0.04,0.1],[0.66,0.85,0.69]])\n",
        "\n",
        "print(\"Matrix:\")\n",
        "print(A)"
      ],
      "metadata": {
        "id": "DICl7Qcxq3rC",
        "colab": {
          "base_uri": "https://localhost:8080/"
        },
        "outputId": "b278e298-e4ac-4995-a45c-88ff67e28647"
      },
      "execution_count": null,
      "outputs": [
        {
          "output_type": "stream",
          "name": "stdout",
          "text": [
            "Matrix:\n",
            "[[0.16  0.8   0.077]\n",
            " [0.5   0.04  0.1  ]\n",
            " [0.66  0.85  0.69 ]]\n"
          ]
        }
      ]
    },
    {
      "cell_type": "markdown",
      "source": [
        "Let us diagonalize it:"
      ],
      "metadata": {
        "id": "_FH3IXPMrHVy"
      }
    },
    {
      "cell_type": "code",
      "source": [
        "eigenValues, eigenVectors = np.linalg.eig(A)\n",
        "print(\"Eigenvalues:\")\n",
        "print(eigenValues)\n",
        "print(\"\\nEigenvectors (each column is an eigenvector):\")\n",
        "print(eigenVectors)"
      ],
      "metadata": {
        "id": "AciaNfaP4Lel",
        "colab": {
          "base_uri": "https://localhost:8080/"
        },
        "outputId": "5cc7e356-9781-48d6-9dae-a475f66f0ab6"
      },
      "execution_count": null,
      "outputs": [
        {
          "output_type": "stream",
          "name": "stdout",
          "text": [
            "Eigenvalues:\n",
            "[ 1.07951513 -0.53726694  0.3477518 ]\n",
            "\n",
            "Eigenvectors (each column is an eigenvector):\n",
            "[[ 0.26990512  0.75026383 -0.28634259]\n",
            " [ 0.22000091 -0.65901449 -0.15815637]\n",
            " [ 0.9374171   0.05295359  0.94498386]]\n"
          ]
        }
      ]
    },
    {
      "cell_type": "markdown",
      "source": [
        "Let us show the Eigenvalues and the corresponding Eigenvectors one by one (it is like having each state with its correspoding Eigenvalue and EigenVector):"
      ],
      "metadata": {
        "id": "y_kZ-GyTymhO"
      }
    },
    {
      "cell_type": "code",
      "source": [
        "for k in range(0,len(eigenValues)):\n",
        "\n",
        "   print(\"EigenState\",k)\n",
        "   print(\"Eigenvalue:\", eigenValues[k])\n",
        "   print(\"Eigenvector:\",eigenVectors[:,k],\"\\n\")\n"
      ],
      "metadata": {
        "id": "NJh6tsdxyt3N",
        "colab": {
          "base_uri": "https://localhost:8080/"
        },
        "outputId": "f9f2296b-b1a4-4f18-ef47-6c0c482dfadc"
      },
      "execution_count": null,
      "outputs": [
        {
          "output_type": "stream",
          "name": "stdout",
          "text": [
            "EigenState 0\n",
            "Eigenvalue: 1.0795151323938244\n",
            "Eigenvector: [0.26990512 0.22000091 0.9374171 ] \n",
            "\n",
            "EigenState 1\n",
            "Eigenvalue: -0.5372669368488905\n",
            "Eigenvector: [ 0.75026383 -0.65901449  0.05295359] \n",
            "\n",
            "EigenState 2\n",
            "Eigenvalue: 0.3477518044550663\n",
            "Eigenvector: [-0.28634259 -0.15815637  0.94498386] \n",
            "\n"
          ]
        }
      ]
    },
    {
      "cell_type": "markdown",
      "source": [
        "We can also create a list putting together eigenvalues with its eigenvector:"
      ],
      "metadata": {
        "id": "rDT3GYyh3EXk"
      }
    },
    {
      "cell_type": "code",
      "source": [
        "eigenstates = list(zip(eigenValues, eigenVectors.transpose()))\n",
        "#print(eigenstates)\n",
        "for k in range(0,len(eigenValues)):\n",
        "  print(\"\\nEigenvalue and Eigenvector of state:\",k)\n",
        "  print(eigenstates[k])"
      ],
      "metadata": {
        "id": "6i6gOsfP3ffh",
        "colab": {
          "base_uri": "https://localhost:8080/"
        },
        "outputId": "30531592-a8a8-4a39-9bfa-7b4710281f00"
      },
      "execution_count": null,
      "outputs": [
        {
          "output_type": "stream",
          "name": "stdout",
          "text": [
            "\n",
            "Eigenvalue and Eigenvector of state: 0\n",
            "(1.0795151323938244, array([0.26990512, 0.22000091, 0.9374171 ]))\n",
            "\n",
            "Eigenvalue and Eigenvector of state: 1\n",
            "(-0.5372669368488905, array([ 0.75026383, -0.65901449,  0.05295359]))\n",
            "\n",
            "Eigenvalue and Eigenvector of state: 2\n",
            "(0.3477518044550663, array([-0.28634259, -0.15815637,  0.94498386]))\n"
          ]
        }
      ]
    },
    {
      "cell_type": "markdown",
      "source": [
        "This looks nice, but the problem here is that the states are not ordered (imagine that the Eigenvalue is the Energy, we want to have first the ground state and then all other states).\n",
        "Let us order this by values of eigenvalue (energy in quantum physics) using again the sort method:"
      ],
      "metadata": {
        "id": "BJ57ZOf755iC"
      }
    },
    {
      "cell_type": "code",
      "source": [
        "eigenstates.sort(key=lambda x: x[0])\n",
        "#print(eigenstates)\n",
        "for k in range(0,len(eigenValues)):\n",
        "  print(\"\\nEigenvalue and Eigenvector of state:\",k)\n",
        "  print(eigenstates[k])"
      ],
      "metadata": {
        "id": "3ukkr3hjy2J8",
        "colab": {
          "base_uri": "https://localhost:8080/"
        },
        "outputId": "823f82a0-febb-4a3f-9202-8cb816340652"
      },
      "execution_count": null,
      "outputs": [
        {
          "output_type": "stream",
          "name": "stdout",
          "text": [
            "\n",
            "Eigenvalue and Eigenvector of state: 0\n",
            "(-0.5372669368488905, array([ 0.75026383, -0.65901449,  0.05295359]))\n",
            "\n",
            "Eigenvalue and Eigenvector of state: 1\n",
            "(0.3477518044550663, array([-0.28634259, -0.15815637,  0.94498386]))\n",
            "\n",
            "Eigenvalue and Eigenvector of state: 2\n",
            "(1.0795151323938244, array([0.26990512, 0.22000091, 0.9374171 ]))\n"
          ]
        }
      ]
    },
    {
      "cell_type": "markdown",
      "source": [
        "An example of how to access the data stored in that list. For example, here we print the second eigenvalue, the third eigenvector and the third eigenvalue:"
      ],
      "metadata": {
        "id": "8D1-Xn67EaUv"
      }
    },
    {
      "cell_type": "code",
      "source": [
        "print(eigenstates[1][0])"
      ],
      "metadata": {
        "id": "FQajuLcfEpDh",
        "colab": {
          "base_uri": "https://localhost:8080/"
        },
        "outputId": "10f6100e-bd8b-4cce-a87f-14af87a37fa9"
      },
      "execution_count": null,
      "outputs": [
        {
          "output_type": "stream",
          "name": "stdout",
          "text": [
            "0.3477518044550663\n"
          ]
        }
      ]
    },
    {
      "cell_type": "code",
      "source": [
        "print(eigenstates[2][1])"
      ],
      "metadata": {
        "id": "mZAPSAgMEv8B",
        "colab": {
          "base_uri": "https://localhost:8080/"
        },
        "outputId": "a9c894e1-7e25-49a9-abb1-b8e96de2bf9a"
      },
      "execution_count": null,
      "outputs": [
        {
          "output_type": "stream",
          "name": "stdout",
          "text": [
            "[0.26990512 0.22000091 0.9374171 ]\n"
          ]
        }
      ]
    },
    {
      "cell_type": "code",
      "source": [
        "print(eigenstates[2][0])"
      ],
      "metadata": {
        "id": "iVoxM0C5G-i_",
        "colab": {
          "base_uri": "https://localhost:8080/"
        },
        "outputId": "e3a8398a-bad7-4741-eac7-77765ce932e6"
      },
      "execution_count": null,
      "outputs": [
        {
          "output_type": "stream",
          "name": "stdout",
          "text": [
            "1.0795151323938244\n"
          ]
        }
      ]
    },
    {
      "cell_type": "markdown",
      "source": [
        "We can also extract the eigenvalue and eigenvector from this combined list:"
      ],
      "metadata": {
        "id": "cWgc2cs5Dygj"
      }
    },
    {
      "cell_type": "code",
      "source": [
        "E_ordered=[]\n",
        "EVector_ordered=[]\n",
        "for k in range(0,len(eigenValues)):\n",
        "  E_ordered.append(eigenstates[k][0])\n",
        "  EVector_ordered.append(eigenstates[k][1])"
      ],
      "metadata": {
        "id": "orTkaFBlEGFL"
      },
      "execution_count": null,
      "outputs": []
    },
    {
      "cell_type": "markdown",
      "source": [
        "show the result again"
      ],
      "metadata": {
        "id": "iLUqA6gUIXyP"
      }
    },
    {
      "cell_type": "code",
      "source": [
        "for k in range(0,len(E_ordered)):\n",
        "  print(\"\\nEigenvalue and Eigenvector of state:\",k)\n",
        "  print(E_ordered[k])\n",
        "  print(EVector_ordered[k])"
      ],
      "metadata": {
        "id": "_aBZEj1MFJAQ",
        "colab": {
          "base_uri": "https://localhost:8080/"
        },
        "outputId": "af0e925a-5482-433b-98fa-23ba6b66767c"
      },
      "execution_count": null,
      "outputs": [
        {
          "output_type": "stream",
          "name": "stdout",
          "text": [
            "\n",
            "Eigenvalue and Eigenvector of state: 0\n",
            "-0.5372669368488905\n",
            "[ 0.75026383 -0.65901449  0.05295359]\n",
            "\n",
            "Eigenvalue and Eigenvector of state: 1\n",
            "0.3477518044550663\n",
            "[-0.28634259 -0.15815637  0.94498386]\n",
            "\n",
            "Eigenvalue and Eigenvector of state: 2\n",
            "1.0795151323938244\n",
            "[0.26990512 0.22000091 0.9374171 ]\n"
          ]
        }
      ]
    },
    {
      "cell_type": "markdown",
      "source": [
        "**Testing that everything is OK.**\n",
        "\n",
        "For example, we can multiply the matrix by one of the eigenvectors to verify that it is really an eigenstate.\n",
        "\n",
        "Here is the result of the matrix applied over the vector"
      ],
      "metadata": {
        "id": "cZoXM4YH75oH"
      }
    },
    {
      "cell_type": "code",
      "source": [
        "np.dot(A,EVector_ordered[1])"
      ],
      "metadata": {
        "id": "Y5HGV2vW746J",
        "colab": {
          "base_uri": "https://localhost:8080/"
        },
        "outputId": "cadb3e6c-f9ad-4626-9953-17720ba7336a"
      },
      "execution_count": null,
      "outputs": [
        {
          "output_type": "execute_result",
          "data": {
            "text/plain": [
              "array([-0.09957615, -0.05499916,  0.32861984])"
            ]
          },
          "metadata": {},
          "execution_count": 30
        }
      ]
    },
    {
      "cell_type": "markdown",
      "source": [
        "And here is the result of the vector multiplied by its eigenvalue"
      ],
      "metadata": {
        "id": "iyd1mrNrJGSW"
      }
    },
    {
      "cell_type": "code",
      "source": [
        "np.dot(E_ordered[1],EVector_ordered[1])"
      ],
      "metadata": {
        "id": "pvl9a3XyJNQL",
        "colab": {
          "base_uri": "https://localhost:8080/"
        },
        "outputId": "08e47c6f-1e1a-40c7-9f14-4830d71b2254"
      },
      "execution_count": null,
      "outputs": [
        {
          "output_type": "execute_result",
          "data": {
            "text/plain": [
              "array([-0.09957615, -0.05499916,  0.32861984])"
            ]
          },
          "metadata": {},
          "execution_count": 31
        }
      ]
    },
    {
      "cell_type": "markdown",
      "source": [
        "**The two results are identical** as it should be, the matrix applied over an eigenvector is the same vector again multiplied by a number (the eigenvalue)"
      ],
      "metadata": {
        "id": "mNsto4RwKwH9"
      }
    },
    {
      "cell_type": "code",
      "source": [],
      "metadata": {
        "id": "2eoOeeB5wGmK"
      },
      "execution_count": null,
      "outputs": []
    }
  ]
}