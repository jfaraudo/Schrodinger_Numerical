{
  "nbformat": 4,
  "nbformat_minor": 0,
  "metadata": {
    "colab": {
      "provenance": [],
      "authorship_tag": "ABX9TyOUNvs4NQ3V/Hipcd6p/iSr",
      "include_colab_link": true
    },
    "kernelspec": {
      "name": "python3",
      "display_name": "Python 3"
    },
    "language_info": {
      "name": "python"
    }
  },
  "cells": [
    {
      "cell_type": "markdown",
      "metadata": {
        "id": "view-in-github",
        "colab_type": "text"
      },
      "source": [
        "<a href=\"https://colab.research.google.com/github/jfaraudo/Schrodinger_Numerical/blob/main/matrix_algebra/Example.ipynb\" target=\"_parent\"><img src=\"https://colab.research.google.com/assets/colab-badge.svg\" alt=\"Open In Colab\"/></a>"
      ]
    },
    {
      "cell_type": "markdown",
      "source": [
        "**1. HOW TO ORDER A LIST OF NUMBERS IN AN ARRAY**"
      ],
      "metadata": {
        "id": "b6ivX5BEpIqN"
      }
    },
    {
      "cell_type": "markdown",
      "source": [
        "Consider the following list of numbers stored in a numpy array:"
      ],
      "metadata": {
        "id": "aR9k1H8HpbEL"
      }
    },
    {
      "cell_type": "code",
      "execution_count": 1,
      "metadata": {
        "colab": {
          "base_uri": "https://localhost:8080/"
        },
        "id": "PfabaYi0Fypl",
        "outputId": "7f42016b-42cb-4dbe-d316-f75c5d80573a"
      },
      "outputs": [
        {
          "output_type": "stream",
          "name": "stdout",
          "text": [
            "array: [ 10  52   2  16  16  54 453]\n"
          ]
        }
      ],
      "source": [
        "import numpy as np\n",
        "array = np.array([10, 52, 2, 16, 16, 54, 453])\n",
        "print(\"array:\",array)"
      ]
    },
    {
      "cell_type": "markdown",
      "source": [
        "As yu can see, the list is not ordered.\n",
        "\n",
        "Let us order it. First we produce a list of the previous indices by the order they should have:"
      ],
      "metadata": {
        "id": "53fcXVf2piZ9"
      }
    },
    {
      "cell_type": "code",
      "source": [
        "indices = np.argsort(array)\n",
        "print(\"Ordered indices:\",indices)"
      ],
      "metadata": {
        "colab": {
          "base_uri": "https://localhost:8080/"
        },
        "id": "UcuF7V2PKheh",
        "outputId": "4aa1d8ae-c548-4b3f-8e06-e1268065cd0a"
      },
      "execution_count": 2,
      "outputs": [
        {
          "output_type": "stream",
          "name": "stdout",
          "text": [
            "Ordered indices: [2 0 3 4 1 5 6]\n"
          ]
        }
      ]
    },
    {
      "cell_type": "markdown",
      "source": [
        "And now we can use this list of ordered indices to build an ordered array"
      ],
      "metadata": {
        "id": "Gqv_zh5Vp-sg"
      }
    },
    {
      "cell_type": "code",
      "execution_count": 3,
      "metadata": {
        "colab": {
          "base_uri": "https://localhost:8080/"
        },
        "outputId": "c6abc909-4e6b-45b9-c52e-7614f3d73cc0",
        "id": "ppY5Jhuyplh6"
      },
      "outputs": [
        {
          "output_type": "stream",
          "name": "stdout",
          "text": [
            "Ordered array: [  2  10  16  16  52  54 453]\n"
          ]
        }
      ],
      "source": [
        "#create ordered array\n",
        "array2=array[indices]\n",
        "print(\"Ordered array:\",array2)"
      ]
    },
    {
      "cell_type": "markdown",
      "source": [
        "**2. Diagonalization of a Matrix**"
      ],
      "metadata": {
        "id": "AVUEcf0fqm7M"
      }
    },
    {
      "cell_type": "markdown",
      "source": [
        "Diagonalization in python is easy, but unfortunatelly eigenvalues and eigenvectors are not ordered."
      ],
      "metadata": {
        "id": "X0oJXURRqq8o"
      }
    },
    {
      "cell_type": "markdown",
      "source": [
        "Let us see an example. Consider this matrix from example 7.1.4 in https://math.libretexts.org/Bookshelves/Linear_Algebra/A_First_Course_in_Linear_Algebra_(Kuttler)/07%3A_Spectral_Theory/7.01%3A_Eigenvalues_and_Eigenvectors_of_a_Matrix"
      ],
      "metadata": {
        "id": "c0aeap9Qq2WC"
      }
    },
    {
      "cell_type": "code",
      "source": [
        "A = np.array([[2.0,2.0,-2.0], [1.0,3.0,-1.0],[-1.0,1.0,1.0]])\n",
        "\n",
        "print(\"Matrix:\")\n",
        "print(A)"
      ],
      "metadata": {
        "colab": {
          "base_uri": "https://localhost:8080/"
        },
        "id": "DICl7Qcxq3rC",
        "outputId": "f25bf95b-b8bf-4858-dddc-db60f74b5ab3"
      },
      "execution_count": 30,
      "outputs": [
        {
          "output_type": "stream",
          "name": "stdout",
          "text": [
            "Matrix:\n",
            "[[ 2.  2. -2.]\n",
            " [ 1.  3. -1.]\n",
            " [-1.  1.  1.]]\n"
          ]
        }
      ]
    },
    {
      "cell_type": "markdown",
      "source": [
        "Let us diagonalize it:"
      ],
      "metadata": {
        "id": "_FH3IXPMrHVy"
      }
    },
    {
      "cell_type": "code",
      "source": [
        "eigenValues, eigenVectors = np.linalg.eig(A)\n",
        "print(\"Eigenvalues:\")\n",
        "print(eigenValues)\n",
        "print(\"\\nEigenvectors:\")\n",
        "print(eigenVectors)"
      ],
      "metadata": {
        "id": "AciaNfaP4Lel",
        "outputId": "a1725621-d9f6-4ad7-da3c-d77ef5cadc54",
        "colab": {
          "base_uri": "https://localhost:8080/"
        }
      },
      "execution_count": 31,
      "outputs": [
        {
          "output_type": "stream",
          "name": "stdout",
          "text": [
            "Eigenvalues:\n",
            "[ 4.00000000e+00 -2.22044605e-16  2.00000000e+00]\n",
            "\n",
            "Eigenvectors:\n",
            "[[ 7.07106781e-01  7.07106781e-01  6.34545313e-16]\n",
            " [ 7.07106781e-01 -4.80740672e-17  7.07106781e-01]\n",
            " [ 1.26505846e-16  7.07106781e-01  7.07106781e-01]]\n"
          ]
        }
      ]
    },
    {
      "cell_type": "markdown",
      "source": [
        "This format is not very practical, let us extract the Eigenvalues and Eigenvectors one by one (it is like having each state with its correspoding Eigenvalue and EigenVector):"
      ],
      "metadata": {
        "id": "A5pqEjpJ4d3p"
      }
    },
    {
      "cell_type": "code",
      "source": [
        "for k in range(0,len(eigenValues)):\n",
        "\n",
        "   print(\"EigenState\",k)\n",
        "   print(\"Eigenvalue:\", eigenValues[k])\n",
        "   print(\"Eigenvector:\",eigenVectors[:,k],\"\\n\")\n"
      ],
      "metadata": {
        "colab": {
          "base_uri": "https://localhost:8080/"
        },
        "id": "aTkiej3-rJMq",
        "outputId": "071115a2-3715-4c82-f8a4-6de6264dbcf4"
      },
      "execution_count": 33,
      "outputs": [
        {
          "output_type": "stream",
          "name": "stdout",
          "text": [
            "EigenState 0\n",
            "Eigenvalue: 4.0\n",
            "Eigenvector: [7.07106781e-01 7.07106781e-01 1.26505846e-16] \n",
            "\n",
            "EigenState 1\n",
            "Eigenvalue: -2.220446049250313e-16\n",
            "Eigenvector: [ 7.07106781e-01 -4.80740672e-17  7.07106781e-01] \n",
            "\n",
            "EigenState 2\n",
            "Eigenvalue: 1.9999999999999996\n",
            "Eigenvector: [6.34545313e-16 7.07106781e-01 7.07106781e-01] \n",
            "\n"
          ]
        }
      ]
    },
    {
      "cell_type": "markdown",
      "source": [
        "This looks nice, but the problem is that the states are not ordered (imagine that the Eigenvalue is the Energy, we want to have first the ground state and then all other states).\n",
        "\n",
        "We can use the previous trick:"
      ],
      "metadata": {
        "id": "XrtV8JhLrQXJ"
      }
    },
    {
      "cell_type": "code",
      "source": [
        "id = np.argsort(eigenValues)\n",
        "\n",
        "Val = eigenValues[id]\n",
        "Vect = eigenVectors[:,id]\n",
        "\n",
        "print(\"\\n Ordered EigenValues and EigenVectors\\n\")\n",
        "\n",
        "for k in range(0,len(Val)):\n",
        "\n",
        "   print(\"EigenState\",k)\n",
        "   print(\"Eigenvalue:\", Val[k])\n",
        "   print(\"Eigenvector:\",Vect[:,k],\"\\n\")"
      ],
      "metadata": {
        "colab": {
          "base_uri": "https://localhost:8080/"
        },
        "id": "Va8A9ZtgrVG5",
        "outputId": "753a6bbe-95b8-40bf-d911-806d240fdee4"
      },
      "execution_count": 34,
      "outputs": [
        {
          "output_type": "stream",
          "name": "stdout",
          "text": [
            "\n",
            " Ordered EigenValues and EigenVectors\n",
            "\n",
            "EigenState 0\n",
            "Eigenvalue: -2.220446049250313e-16\n",
            "Eigenvector: [ 7.07106781e-01 -4.80740672e-17  7.07106781e-01] \n",
            "\n",
            "EigenState 1\n",
            "Eigenvalue: 1.9999999999999996\n",
            "Eigenvector: [6.34545313e-16 7.07106781e-01 7.07106781e-01] \n",
            "\n",
            "EigenState 2\n",
            "Eigenvalue: 4.0\n",
            "Eigenvector: [7.07106781e-01 7.07106781e-01 1.26505846e-16] \n",
            "\n"
          ]
        }
      ]
    },
    {
      "cell_type": "code",
      "source": [],
      "metadata": {
        "id": "YsbL9HRB5C-I"
      },
      "execution_count": null,
      "outputs": []
    }
  ]
}