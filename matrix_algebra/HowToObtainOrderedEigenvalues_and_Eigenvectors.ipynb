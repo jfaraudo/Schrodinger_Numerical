{
  "nbformat": 4,
  "nbformat_minor": 0,
  "metadata": {
    "colab": {
      "provenance": [],
      "authorship_tag": "ABX9TyMKsJNNTO351xhtj8hOcCok",
      "include_colab_link": true
    },
    "kernelspec": {
      "name": "python3",
      "display_name": "Python 3"
    },
    "language_info": {
      "name": "python"
    }
  },
  "cells": [
    {
      "cell_type": "markdown",
      "metadata": {
        "id": "view-in-github",
        "colab_type": "text"
      },
      "source": [
        "<a href=\"https://colab.research.google.com/github/jfaraudo/Schrodinger_Numerical/blob/main/matrix_algebra/HowToObtainOrderedEigenvalues_and_Eigenvectors.ipynb\" target=\"_parent\"><img src=\"https://colab.research.google.com/assets/colab-badge.svg\" alt=\"Open In Colab\"/></a>"
      ]
    },
    {
      "cell_type": "markdown",
      "source": [
        "**1. HOW TO ORDER AN ARRAY**"
      ],
      "metadata": {
        "id": "b6ivX5BEpIqN"
      }
    },
    {
      "cell_type": "markdown",
      "source": [
        "Consider the following array (not ordered)"
      ],
      "metadata": {
        "id": "aR9k1H8HpbEL"
      }
    },
    {
      "cell_type": "code",
      "execution_count": 22,
      "metadata": {
        "colab": {
          "base_uri": "https://localhost:8080/"
        },
        "id": "PfabaYi0Fypl",
        "outputId": "0a723085-eb60-4b6b-dd61-ccefae9fbed6"
      },
      "outputs": [
        {
          "output_type": "stream",
          "name": "stdout",
          "text": [
            "array: [ 10  52  62  16  16  54 453]\n"
          ]
        }
      ],
      "source": [
        "import numpy as np\n",
        "\n",
        "# Original array\n",
        "array = np.array([10, 52, 62, 16, 16, 54, 453])\n",
        "print(\"array:\",array)"
      ]
    },
    {
      "cell_type": "markdown",
      "source": [
        "Not let us order it. First we produce a list of the previous indices by the order they should have:"
      ],
      "metadata": {
        "id": "53fcXVf2piZ9"
      }
    },
    {
      "cell_type": "code",
      "source": [
        "indices = np.argsort(array)\n",
        "print(\"Ordered indices:\",indices)"
      ],
      "metadata": {
        "colab": {
          "base_uri": "https://localhost:8080/"
        },
        "id": "UcuF7V2PKheh",
        "outputId": "5edde13d-47ba-4068-c009-0f4602207dfd"
      },
      "execution_count": 24,
      "outputs": [
        {
          "output_type": "stream",
          "name": "stdout",
          "text": [
            "Ordered indices: [0 3 4 1 5 2 6]\n"
          ]
        }
      ]
    },
    {
      "cell_type": "markdown",
      "source": [
        "And now we can use this list of ordered indices to build an ordered array"
      ],
      "metadata": {
        "id": "Gqv_zh5Vp-sg"
      }
    },
    {
      "cell_type": "code",
      "execution_count": 25,
      "metadata": {
        "colab": {
          "base_uri": "https://localhost:8080/"
        },
        "outputId": "d42ad530-c09e-4a0c-f281-0c7b520acccb",
        "id": "ppY5Jhuyplh6"
      },
      "outputs": [
        {
          "output_type": "stream",
          "name": "stdout",
          "text": [
            "Ordered array: [ 10  16  16  52  54  62 453]\n"
          ]
        }
      ],
      "source": [
        "#create ordered array\n",
        "array2=array[indices]\n",
        "print(\"Ordered array:\",array2)"
      ]
    },
    {
      "cell_type": "markdown",
      "source": [
        "**2. Diagonalization of a Matrix**"
      ],
      "metadata": {
        "id": "AVUEcf0fqm7M"
      }
    },
    {
      "cell_type": "markdown",
      "source": [
        "Diagonalization in python is easy, but unfortunatelly eigenvalues and eigenvectors are not ordered."
      ],
      "metadata": {
        "id": "X0oJXURRqq8o"
      }
    },
    {
      "cell_type": "markdown",
      "source": [
        "Let us see an example. Consider this matrix:"
      ],
      "metadata": {
        "id": "c0aeap9Qq2WC"
      }
    },
    {
      "cell_type": "code",
      "source": [
        "A = np.array([[0.16,0.8,0.077], [0.5,0.04,0.1],[0.66,0.85,0.69]])\n",
        "\n",
        "\n",
        "print(\"Matrix:\")\n",
        "print(A)"
      ],
      "metadata": {
        "colab": {
          "base_uri": "https://localhost:8080/"
        },
        "id": "DICl7Qcxq3rC",
        "outputId": "84588df7-4d8d-4bff-9952-27995867b562"
      },
      "execution_count": 26,
      "outputs": [
        {
          "output_type": "stream",
          "name": "stdout",
          "text": [
            "Matrix:\n",
            "[[0.16  0.8   0.077]\n",
            " [0.5   0.04  0.1  ]\n",
            " [0.66  0.85  0.69 ]]\n"
          ]
        }
      ]
    },
    {
      "cell_type": "markdown",
      "source": [
        "Let us diagonalize it:"
      ],
      "metadata": {
        "id": "_FH3IXPMrHVy"
      }
    },
    {
      "cell_type": "code",
      "source": [
        "eigenValues, eigenVectors = np.linalg.eig(A)\n",
        "\n",
        "print(\"\\nResult from direct diagonalisation\")\n",
        "\n",
        "for k in range(0,len(eigenValues)):\n",
        "\n",
        "   print(\"EigenState\",k)\n",
        "   print(\"Eigenvalue:\", eigenValues[k])\n",
        "   print(\"Eigenvector:\",eigenVectors[:,k],\"\\n\")\n"
      ],
      "metadata": {
        "colab": {
          "base_uri": "https://localhost:8080/"
        },
        "id": "aTkiej3-rJMq",
        "outputId": "1f5fe70d-4580-4717-e673-47a8d9868d00"
      },
      "execution_count": 27,
      "outputs": [
        {
          "output_type": "stream",
          "name": "stdout",
          "text": [
            "\n",
            "Result from direct diagonalisation\n",
            "EigenState 0\n",
            "Eigenvalue: 1.0795151323938244\n",
            "Eigenvector: [0.26990512 0.22000091 0.9374171 ] \n",
            "\n",
            "EigenState 1\n",
            "Eigenvalue: -0.5372669368488905\n",
            "Eigenvector: [ 0.75026383 -0.65901449  0.05295359] \n",
            "\n",
            "EigenState 2\n",
            "Eigenvalue: 0.3477518044550663\n",
            "Eigenvector: [-0.28634259 -0.15815637  0.94498386] \n",
            "\n"
          ]
        }
      ]
    },
    {
      "cell_type": "markdown",
      "source": [
        "To order this, we can use the previous trick:"
      ],
      "metadata": {
        "id": "XrtV8JhLrQXJ"
      }
    },
    {
      "cell_type": "code",
      "source": [
        "id = np.argsort(eigenValues)\n",
        "\n",
        "Val = eigenValues[id]\n",
        "Vect = eigenVectors[:,id]\n",
        "\n",
        "print(\"\\n Ordered EigenValues and EigenVectors\\n\")\n",
        "\n",
        "for k in range(0,len(Val)):\n",
        "\n",
        "   print(\"EigenState\",k)\n",
        "   print(\"Eigenvalue:\", Val[k])\n",
        "   print(\"Eigenvector:\",Vect[:,k],\"\\n\")"
      ],
      "metadata": {
        "colab": {
          "base_uri": "https://localhost:8080/"
        },
        "id": "Va8A9ZtgrVG5",
        "outputId": "33052756-bd35-40f8-ccce-5b204db102c7"
      },
      "execution_count": 28,
      "outputs": [
        {
          "output_type": "stream",
          "name": "stdout",
          "text": [
            "\n",
            " Ordered EigenValues and EigenVectors\n",
            "\n",
            "EigenState 0\n",
            "Eigenvalue: -0.5372669368488905\n",
            "Eigenvector: [ 0.75026383 -0.65901449  0.05295359] \n",
            "\n",
            "EigenState 1\n",
            "Eigenvalue: 0.3477518044550663\n",
            "Eigenvector: [-0.28634259 -0.15815637  0.94498386] \n",
            "\n",
            "EigenState 2\n",
            "Eigenvalue: 1.0795151323938244\n",
            "Eigenvector: [0.26990512 0.22000091 0.9374171 ] \n",
            "\n"
          ]
        }
      ]
    }
  ]
}