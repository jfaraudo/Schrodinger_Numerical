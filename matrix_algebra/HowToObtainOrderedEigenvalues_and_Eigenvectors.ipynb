{
  "nbformat": 4,
  "nbformat_minor": 0,
  "metadata": {
    "colab": {
      "provenance": [],
      "authorship_tag": "ABX9TyNfFin1WOCMv1SJDqXjGtpz",
      "include_colab_link": true
    },
    "kernelspec": {
      "name": "python3",
      "display_name": "Python 3"
    },
    "language_info": {
      "name": "python"
    }
  },
  "cells": [
    {
      "cell_type": "markdown",
      "metadata": {
        "id": "view-in-github",
        "colab_type": "text"
      },
      "source": [
        "<a href=\"https://colab.research.google.com/github/jfaraudo/Schrodinger_Numerical/blob/main/matrix_algebra/HowToObtainOrderedEigenvalues_and_Eigenvectors.ipynb\" target=\"_parent\"><img src=\"https://colab.research.google.com/assets/colab-badge.svg\" alt=\"Open In Colab\"/></a>"
      ]
    },
    {
      "cell_type": "markdown",
      "source": [
        "**1. HOW TO ORDER A LIST OF NUMBERS IN AN ARRAY**"
      ],
      "metadata": {
        "id": "b6ivX5BEpIqN"
      }
    },
    {
      "cell_type": "markdown",
      "source": [
        "Consider the following list of numbers stored in a numpy array:"
      ],
      "metadata": {
        "id": "aR9k1H8HpbEL"
      }
    },
    {
      "cell_type": "code",
      "execution_count": 6,
      "metadata": {
        "colab": {
          "base_uri": "https://localhost:8080/"
        },
        "id": "PfabaYi0Fypl",
        "outputId": "bbf5db13-86d3-4f61-8079-f6986186a656"
      },
      "outputs": [
        {
          "output_type": "stream",
          "name": "stdout",
          "text": [
            "array: [ 10  52   2  16  16  54 453]\n"
          ]
        }
      ],
      "source": [
        "import numpy as np\n",
        "array = np.array([10, 52, 2, 16, 16, 54, 453])\n",
        "print(\"array:\",array)"
      ]
    },
    {
      "cell_type": "markdown",
      "source": [
        "As yu can see, the list is not ordered.\n",
        "\n",
        "Let us order it. First we produce a list of the previous indices by the order they should have:"
      ],
      "metadata": {
        "id": "53fcXVf2piZ9"
      }
    },
    {
      "cell_type": "code",
      "source": [
        "indices = np.argsort(array)\n",
        "print(\"Ordered indices:\",indices)"
      ],
      "metadata": {
        "colab": {
          "base_uri": "https://localhost:8080/"
        },
        "id": "UcuF7V2PKheh",
        "outputId": "6deceb23-cae9-45c6-c7e1-db82d7b5a81f"
      },
      "execution_count": 7,
      "outputs": [
        {
          "output_type": "stream",
          "name": "stdout",
          "text": [
            "Ordered indices: [2 0 3 4 1 5 6]\n"
          ]
        }
      ]
    },
    {
      "cell_type": "markdown",
      "source": [
        "And now we can use this list of ordered indices to build an ordered array"
      ],
      "metadata": {
        "id": "Gqv_zh5Vp-sg"
      }
    },
    {
      "cell_type": "code",
      "execution_count": 8,
      "metadata": {
        "colab": {
          "base_uri": "https://localhost:8080/"
        },
        "outputId": "a8c6dd1f-527b-4abe-e884-76114778e363",
        "id": "ppY5Jhuyplh6"
      },
      "outputs": [
        {
          "output_type": "stream",
          "name": "stdout",
          "text": [
            "Ordered array: [  2  10  16  16  52  54 453]\n"
          ]
        }
      ],
      "source": [
        "#create ordered array\n",
        "array2=array[indices]\n",
        "print(\"Ordered array:\",array2)"
      ]
    },
    {
      "cell_type": "markdown",
      "source": [
        "**2. Diagonalization of a Matrix**"
      ],
      "metadata": {
        "id": "AVUEcf0fqm7M"
      }
    },
    {
      "cell_type": "markdown",
      "source": [
        "Diagonalization in python is easy, but unfortunatelly eigenvalues and eigenvectors are not ordered."
      ],
      "metadata": {
        "id": "X0oJXURRqq8o"
      }
    },
    {
      "cell_type": "markdown",
      "source": [
        "Let us see an example. Consider this matrix:"
      ],
      "metadata": {
        "id": "c0aeap9Qq2WC"
      }
    },
    {
      "cell_type": "code",
      "source": [
        "A = np.array([[0.16,0.8,0.077], [0.5,0.04,0.1],[0.66,0.85,0.69]])\n",
        "\n",
        "print(\"Matrix:\")\n",
        "print(A)"
      ],
      "metadata": {
        "colab": {
          "base_uri": "https://localhost:8080/"
        },
        "id": "DICl7Qcxq3rC",
        "outputId": "8b7e66be-83cc-44b0-fb7c-0605699c6609"
      },
      "execution_count": 9,
      "outputs": [
        {
          "output_type": "stream",
          "name": "stdout",
          "text": [
            "Matrix:\n",
            "[[0.16  0.8   0.077]\n",
            " [0.5   0.04  0.1  ]\n",
            " [0.66  0.85  0.69 ]]\n"
          ]
        }
      ]
    },
    {
      "cell_type": "markdown",
      "source": [
        "Let us diagonalize it:"
      ],
      "metadata": {
        "id": "_FH3IXPMrHVy"
      }
    },
    {
      "cell_type": "code",
      "source": [
        "eigenValues, eigenVectors = np.linalg.eig(A)\n",
        "print(\"Eigenvalues:\")\n",
        "print(eigenValues)\n",
        "print(\"\\nEigenvectors:\")\n",
        "print(eigenVectors)"
      ],
      "metadata": {
        "id": "AciaNfaP4Lel",
        "outputId": "939808a5-b467-4644-e061-b092cf427a1e",
        "colab": {
          "base_uri": "https://localhost:8080/"
        }
      },
      "execution_count": 12,
      "outputs": [
        {
          "output_type": "stream",
          "name": "stdout",
          "text": [
            "Eigenvalues:\n",
            "[ 1.07951513 -0.53726694  0.3477518 ]\n",
            "\n",
            "Eigenvectors:\n",
            "[[ 0.26990512  0.75026383 -0.28634259]\n",
            " [ 0.22000091 -0.65901449 -0.15815637]\n",
            " [ 0.9374171   0.05295359  0.94498386]]\n"
          ]
        }
      ]
    },
    {
      "cell_type": "markdown",
      "source": [
        "This format is not very practical, let us extract the Eigenvalues and Eigenvectors one by one (it is like having each state with its correspoding Eigenvalue and EigenVector):"
      ],
      "metadata": {
        "id": "A5pqEjpJ4d3p"
      }
    },
    {
      "cell_type": "code",
      "source": [
        "for k in range(0,len(eigenValues)):\n",
        "\n",
        "   print(\"EigenState\",k)\n",
        "   print(\"Eigenvalue:\", eigenValues[k])\n",
        "   print(\"Eigenvector:\",eigenVectors[:,k],\"\\n\")\n"
      ],
      "metadata": {
        "colab": {
          "base_uri": "https://localhost:8080/"
        },
        "id": "aTkiej3-rJMq",
        "outputId": "6cac0a83-8df2-4bc3-d4c4-239169ece98f"
      },
      "execution_count": 13,
      "outputs": [
        {
          "output_type": "stream",
          "name": "stdout",
          "text": [
            "EigenState 0\n",
            "Eigenvalue: 1.0795151323938244\n",
            "Eigenvector: [0.26990512 0.22000091 0.9374171 ] \n",
            "\n",
            "EigenState 1\n",
            "Eigenvalue: -0.5372669368488905\n",
            "Eigenvector: [ 0.75026383 -0.65901449  0.05295359] \n",
            "\n",
            "EigenState 2\n",
            "Eigenvalue: 0.3477518044550663\n",
            "Eigenvector: [-0.28634259 -0.15815637  0.94498386] \n",
            "\n"
          ]
        }
      ]
    },
    {
      "cell_type": "markdown",
      "source": [
        "This looks nice, but the problem is that the states are not ordered (imagine that the Eigenvalue is the Energy, we want to have first the ground state and then all other states).\n",
        "\n",
        "We can use the previous trick:"
      ],
      "metadata": {
        "id": "XrtV8JhLrQXJ"
      }
    },
    {
      "cell_type": "code",
      "source": [
        "id = np.argsort(eigenValues)\n",
        "\n",
        "Val = eigenValues[id]\n",
        "Vect = eigenVectors[:,id]\n",
        "\n",
        "print(\"\\n Ordered EigenValues and EigenVectors\\n\")\n",
        "\n",
        "for k in range(0,len(Val)):\n",
        "\n",
        "   print(\"EigenState\",k)\n",
        "   print(\"Eigenvalue:\", Val[k])\n",
        "   print(\"Eigenvector:\",Vect[:,k],\"\\n\")"
      ],
      "metadata": {
        "colab": {
          "base_uri": "https://localhost:8080/"
        },
        "id": "Va8A9ZtgrVG5",
        "outputId": "03e58b1b-81f3-47f8-a229-6587e2d323b7"
      },
      "execution_count": 14,
      "outputs": [
        {
          "output_type": "stream",
          "name": "stdout",
          "text": [
            "\n",
            " Ordered EigenValues and EigenVectors\n",
            "\n",
            "EigenState 0\n",
            "Eigenvalue: -0.5372669368488905\n",
            "Eigenvector: [ 0.75026383 -0.65901449  0.05295359] \n",
            "\n",
            "EigenState 1\n",
            "Eigenvalue: 0.3477518044550663\n",
            "Eigenvector: [-0.28634259 -0.15815637  0.94498386] \n",
            "\n",
            "EigenState 2\n",
            "Eigenvalue: 1.0795151323938244\n",
            "Eigenvector: [0.26990512 0.22000091 0.9374171 ] \n",
            "\n"
          ]
        }
      ]
    },
    {
      "cell_type": "code",
      "source": [],
      "metadata": {
        "id": "YsbL9HRB5C-I"
      },
      "execution_count": null,
      "outputs": []
    }
  ]
}