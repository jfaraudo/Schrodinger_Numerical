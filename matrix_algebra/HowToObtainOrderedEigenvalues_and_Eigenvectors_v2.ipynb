{
  "nbformat": 4,
  "nbformat_minor": 0,
  "metadata": {
    "colab": {
      "provenance": [],
      "authorship_tag": "ABX9TyOUXagIBhU7hVimm7ebCNI5",
      "include_colab_link": true
    },
    "kernelspec": {
      "name": "python3",
      "display_name": "Python 3"
    },
    "language_info": {
      "name": "python"
    }
  },
  "cells": [
    {
      "cell_type": "markdown",
      "metadata": {
        "id": "view-in-github",
        "colab_type": "text"
      },
      "source": [
        "<a href=\"https://colab.research.google.com/github/jfaraudo/Schrodinger_Numerical/blob/main/matrix_algebra/HowToObtainOrderedEigenvalues_and_Eigenvectors_v2.ipynb\" target=\"_parent\"><img src=\"https://colab.research.google.com/assets/colab-badge.svg\" alt=\"Open In Colab\"/></a>"
      ]
    },
    {
      "cell_type": "markdown",
      "source": [
        "**1. HOW TO ORDER A LIST OF NUMBERS IN AN ARRAY**"
      ],
      "metadata": {
        "id": "b6ivX5BEpIqN"
      }
    },
    {
      "cell_type": "markdown",
      "source": [
        "Consider the following list of numbers stored in a numpy array:"
      ],
      "metadata": {
        "id": "aR9k1H8HpbEL"
      }
    },
    {
      "cell_type": "code",
      "execution_count": null,
      "metadata": {
        "id": "PfabaYi0Fypl"
      },
      "outputs": [],
      "source": [
        "import numpy as np\n",
        "list_of_numbers = np.array([11, 52, 2, 16, 16, 54, 453])\n",
        "print(\"array:\",list_of_numbers)"
      ]
    },
    {
      "cell_type": "markdown",
      "source": [
        "As you can see, the list is not ordered.\n",
        "\n",
        "We can order it using the .sort() method of Python (see https://docs.python.org/es/3.13/howto/sorting.html )\n",
        ":"
      ],
      "metadata": {
        "id": "53fcXVf2piZ9"
      }
    },
    {
      "cell_type": "code",
      "source": [
        "list_of_numbers.sort()\n",
        "print(list_of_numbers)"
      ],
      "metadata": {
        "id": "eONBwrg6w4tq"
      },
      "execution_count": null,
      "outputs": []
    },
    {
      "cell_type": "markdown",
      "source": [
        "**2. Diagonalization of a Matrix**"
      ],
      "metadata": {
        "id": "AVUEcf0fqm7M"
      }
    },
    {
      "cell_type": "markdown",
      "source": [
        "Diagonalization in python is easy, but unfortunatelly eigenvalues and eigenvectors are not ordered."
      ],
      "metadata": {
        "id": "X0oJXURRqq8o"
      }
    },
    {
      "cell_type": "markdown",
      "source": [
        "Let us see an example. Consider this matrix:"
      ],
      "metadata": {
        "id": "c0aeap9Qq2WC"
      }
    },
    {
      "cell_type": "code",
      "source": [
        "A = np.array([[0.16,0.8,0.077], [0.5,0.04,0.1],[0.66,0.85,0.69]])\n",
        "\n",
        "print(\"Matrix:\")\n",
        "print(A)"
      ],
      "metadata": {
        "id": "DICl7Qcxq3rC"
      },
      "execution_count": null,
      "outputs": []
    },
    {
      "cell_type": "markdown",
      "source": [
        "Let us diagonalize it:"
      ],
      "metadata": {
        "id": "_FH3IXPMrHVy"
      }
    },
    {
      "cell_type": "code",
      "source": [
        "eigenValues, eigenVectors = np.linalg.eig(A)\n",
        "print(\"Eigenvalues:\")\n",
        "print(eigenValues)\n",
        "print(\"\\nEigenvectors (each column is an eigenvector):\")\n",
        "print(eigenVectors)"
      ],
      "metadata": {
        "id": "AciaNfaP4Lel"
      },
      "execution_count": null,
      "outputs": []
    },
    {
      "cell_type": "markdown",
      "source": [
        "Let us show the Eigenvalues and the corresponding Eigenvectors one by one (it is like having each state with its correspoding Eigenvalue and EigenVector):"
      ],
      "metadata": {
        "id": "y_kZ-GyTymhO"
      }
    },
    {
      "cell_type": "code",
      "source": [
        "for k in range(0,len(eigenValues)):\n",
        "\n",
        "   print(\"EigenState\",k)\n",
        "   print(\"Eigenvalue:\", eigenValues[k])\n",
        "   print(\"Eigenvector:\",eigenVectors[k,:],\"\\n\")\n"
      ],
      "metadata": {
        "id": "NJh6tsdxyt3N"
      },
      "execution_count": null,
      "outputs": []
    },
    {
      "cell_type": "markdown",
      "source": [
        "We can also create a list putting together eigenvalues with its eigenvector:"
      ],
      "metadata": {
        "id": "rDT3GYyh3EXk"
      }
    },
    {
      "cell_type": "code",
      "source": [
        "eigenstates = list(zip(eigenValues, eigenVectors))\n",
        "#print(eigenstates)\n",
        "for k in range(0,len(eigenValues)):\n",
        "  print(\"\\nEigenvalue and Eigenvector of state:\",k)\n",
        "  print(eigenstates[k])"
      ],
      "metadata": {
        "id": "6i6gOsfP3ffh"
      },
      "execution_count": null,
      "outputs": []
    },
    {
      "cell_type": "markdown",
      "source": [
        "This looks nice, but the problem here is that the states are not ordered (imagine that the Eigenvalue is the Energy, we want to have first the ground state and then all other states).\n",
        "Let us order this by values of eigenvalue (energy in quantum physics) using again the sort method:"
      ],
      "metadata": {
        "id": "BJ57ZOf755iC"
      }
    },
    {
      "cell_type": "code",
      "source": [
        "eigenstates.sort(key=lambda x: x[0])\n",
        "#print(eigenstates)\n",
        "for k in range(0,len(eigenValues)):\n",
        "  print(\"\\nEigenvalue and Eigenvector of state:\",k)\n",
        "  print(eigenstates[k])"
      ],
      "metadata": {
        "id": "3ukkr3hjy2J8"
      },
      "execution_count": null,
      "outputs": []
    },
    {
      "cell_type": "markdown",
      "source": [
        "An example of how to access the data stored in that list. For example, here we print the second eigenvalue, the third eigenvector and the third eigenvalue:"
      ],
      "metadata": {
        "id": "8D1-Xn67EaUv"
      }
    },
    {
      "cell_type": "code",
      "source": [
        "print(eigenstates[1][0])"
      ],
      "metadata": {
        "id": "FQajuLcfEpDh"
      },
      "execution_count": null,
      "outputs": []
    },
    {
      "cell_type": "code",
      "source": [
        "print(eigenstates[2][1])"
      ],
      "metadata": {
        "id": "mZAPSAgMEv8B"
      },
      "execution_count": null,
      "outputs": []
    },
    {
      "cell_type": "code",
      "source": [
        "print(eigenstates[2][0])"
      ],
      "metadata": {
        "id": "iVoxM0C5G-i_"
      },
      "execution_count": null,
      "outputs": []
    },
    {
      "cell_type": "markdown",
      "source": [
        "We can also extract the eigenvalue and eigenvector from this combined list:"
      ],
      "metadata": {
        "id": "cWgc2cs5Dygj"
      }
    },
    {
      "cell_type": "code",
      "source": [
        "E_ordered=[]\n",
        "EVector_ordered=[]\n",
        "for k in range(0,len(eigenValues)):\n",
        "  E_ordered.append(eigenstates[k][0])\n",
        "  EVector_ordered.append(eigenstates[k][1])"
      ],
      "metadata": {
        "id": "orTkaFBlEGFL"
      },
      "execution_count": null,
      "outputs": []
    },
    {
      "cell_type": "markdown",
      "source": [
        "show the result again"
      ],
      "metadata": {
        "id": "iLUqA6gUIXyP"
      }
    },
    {
      "cell_type": "code",
      "source": [
        "for k in range(0,len(E_ordered)):\n",
        "  print(\"\\nEigenvalue and Eigenvector of state:\",k)\n",
        "  print(E_ordered[k])\n",
        "  print(EVector_ordered[k])"
      ],
      "metadata": {
        "id": "_aBZEj1MFJAQ"
      },
      "execution_count": null,
      "outputs": []
    },
    {
      "cell_type": "markdown",
      "source": [
        "**Testing that everything is OK.**\n",
        "\n",
        "For example, we can multiply the matrix by one of the eigenvectors to verify that it is really an eigenstate.\n",
        "\n",
        "Here is the result of the matrix applied over the vector"
      ],
      "metadata": {
        "id": "cZoXM4YH75oH"
      }
    },
    {
      "cell_type": "code",
      "source": [
        "np.dot(A,EVector_ordered[1])"
      ],
      "metadata": {
        "id": "Y5HGV2vW746J"
      },
      "execution_count": null,
      "outputs": []
    },
    {
      "cell_type": "markdown",
      "source": [
        "And here is the result of the vector multiplied by its eigenvalue"
      ],
      "metadata": {
        "id": "iyd1mrNrJGSW"
      }
    },
    {
      "cell_type": "code",
      "source": [
        "np.dot(E_ordered[1],EVector_ordered[1])"
      ],
      "metadata": {
        "id": "pvl9a3XyJNQL"
      },
      "execution_count": null,
      "outputs": []
    },
    {
      "cell_type": "markdown",
      "source": [
        "**The two results are identical** as it should be, the matrix applied over an eigenvector is the same vector again multiplied by a number (the eigenvalue)"
      ],
      "metadata": {
        "id": "mNsto4RwKwH9"
      }
    },
    {
      "cell_type": "code",
      "source": [],
      "metadata": {
        "id": "2eoOeeB5wGmK"
      },
      "execution_count": null,
      "outputs": []
    }
  ]
}